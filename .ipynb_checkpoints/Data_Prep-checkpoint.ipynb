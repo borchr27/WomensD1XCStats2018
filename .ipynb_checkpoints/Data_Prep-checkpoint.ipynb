{
 "cells": [
  {
   "cell_type": "code",
   "execution_count": 27,
   "metadata": {},
   "outputs": [],
   "source": [
    "import csv\n",
    "import collections\n",
    "import pandas as pd\n",
    "import numpy as np\n",
    "import fileinput\n",
    "\n",
    "## allowed me to add commas between text and make csv file by copying and pasting to notepad then opening in word/saving as csv\n",
    "\n",
    "#with open('RAWData.csv', 'r') as csvfile:\n",
    "#    readCSV = csv.reader(csvfile, delimiter=' ')\n",
    "#    for row in readCSV:\n",
    "#        print(*row)\n",
    "\n",
    "## after this command open csv file in excel and then filter to get rid of extra lines\n",
    "## then import using pandas after manually cleaning up the data\n",
    "\n",
    "with open('out.csv','w') as file:\n",
    "    for line in open('DataRaw.txt','r'):\n",
    "        row = line.strip().split(' ') \n",
    "        writer = csv.writer(file)\n",
    "        writer.writerow(row)\n",
    "\n",
    "## rename out.csv to REGIONData.csv\n",
    "\n",
    "#csv_file = 'REGIONData.csv'\n",
    "#df = pd.read_csv(csv_file, sep=',')\n",
    "#df"
   ]
  },
  {
   "cell_type": "code",
   "execution_count": null,
   "metadata": {},
   "outputs": [],
   "source": []
  },
  {
   "cell_type": "code",
   "execution_count": null,
   "metadata": {},
   "outputs": [],
   "source": []
  }
 ],
 "metadata": {
  "kernelspec": {
   "display_name": "Python 3",
   "language": "python",
   "name": "python3"
  },
  "language_info": {
   "codemirror_mode": {
    "name": "ipython",
    "version": 3
   },
   "file_extension": ".py",
   "mimetype": "text/x-python",
   "name": "python",
   "nbconvert_exporter": "python",
   "pygments_lexer": "ipython3",
   "version": "3.6.7"
  }
 },
 "nbformat": 4,
 "nbformat_minor": 2
}
